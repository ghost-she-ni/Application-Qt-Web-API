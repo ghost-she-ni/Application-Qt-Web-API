{
 "cells": [
  {
   "cell_type": "markdown",
   "metadata": {},
   "source": [
    "Exercice 1: Qu'est ce qu'un service web?"
   ]
  },
  {
   "cell_type": "markdown",
   "metadata": {},
   "source": [
    "1. Qu'est ce qu'un service web?\n",
    "\n",
    "  Un service web est une technologie permettant à des applications de communiquer entre elles via Internet, indépendamment des langages de programmation et des plateformes logicielles utilisées. Il s'agit d'un moyen standardisé d'intégrer des applications web en utilisant des protocoles et des formats de données ouverts et bien définis, tels que HTTP, XML, SOAP (Simple Object Access Protocol), et REST (Representational State Transfer)."
   ]
  },
  {
   "cell_type": "markdown",
   "metadata": {},
   "source": [
    "2. Une API REST, qu'est-ce que c'est ?"
   ]
  },
  {
   "cell_type": "markdown",
   "metadata": {},
   "source": [
    "\n",
    "    Une API REST, ou API RESTful, est une interface de programmation d'applications qui suit les principes de l'architecture REST (Representational State Transfer). Développée par Roy Fielding en 2000 dans sa thèse de doctorat, REST est un ensemble de contraintes architecturales utilisées pour créer des services web. Les API RESTful permettent aux applications de communiquer sur Internet pour effectuer des requêtes et envoyer des réponses via le protocole HTTP en utilisant les standards du web, ce qui facilite l'intégration entre systèmes informatiques hétérogènes."
   ]
  },
  {
   "cell_type": "markdown",
   "metadata": {},
   "source": [
    "3. Qu'est ce qu'une FastAPI?"
   ]
  },
  {
   "cell_type": "markdown",
   "metadata": {},
   "source": [
    "   FastAPI est un framework web moderne et rapide (haute performance) pour la construction d'APIs avec Python 3.6+ qui est basé sur des standards Python comme les type hints (indices de type). Le framework a été conçu pour être facile à utiliser et intuitif, tout en offrant des performances comparables à celles de NodeJS et Go grâce à l'utilisation de Starlette pour le routage des requêtes et Pydantic pour la validation des données."
   ]
  },
  {
   "cell_type": "markdown",
   "metadata": {},
   "source": [
    "Exercice 2: Installation de l'environnement"
   ]
  },
  {
   "cell_type": "markdown",
   "metadata": {},
   "source": [
    "Exercice 3: Creation API REST"
   ]
  },
  {
   "cell_type": "code",
   "execution_count": null,
   "metadata": {},
   "outputs": [],
   "source": []
  }
 ],
 "metadata": {
  "kernelspec": {
   "display_name": "Python 3",
   "language": "python",
   "name": "python3"
  },
  "language_info": {
   "name": "python",
   "version": "3.11.8"
  }
 },
 "nbformat": 4,
 "nbformat_minor": 2
}
